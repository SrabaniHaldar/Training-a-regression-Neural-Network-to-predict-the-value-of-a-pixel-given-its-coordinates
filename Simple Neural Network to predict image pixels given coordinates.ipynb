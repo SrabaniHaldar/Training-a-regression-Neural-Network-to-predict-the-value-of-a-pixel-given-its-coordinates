{
 "cells": [
  {
   "cell_type": "markdown",
   "id": "b22f83f9",
   "metadata": {},
   "source": [
    "# IMPORT"
   ]
  },
  {
   "cell_type": "code",
   "execution_count": 1,
   "id": "21be2417",
   "metadata": {},
   "outputs": [],
   "source": [
    "import torch\n",
    "from torchvision import transforms\n",
    "from torch.utils.data import TensorDataset,DataLoader\n",
    "import torch.nn as nn\n",
    "#import torch.nn.functional as F\n",
    "import torch.optim as optim\n",
    "from PIL import Image\n",
    "import numpy as np\n",
    "import matplotlib.pyplot as plt"
   ]
  },
  {
   "cell_type": "code",
   "execution_count": 2,
   "id": "79867b05",
   "metadata": {},
   "outputs": [
    {
     "data": {
      "image/png": "[encoded data removed]",
      "text/plain": [
       "<PIL.PngImagePlugin.PngImageFile image mode=P size=128x84>"
      ]
     },
     "execution_count": 2,
     "metadata": {},
     "output_type": "execute_result"
    }
   ],
   "source": [
    "I = Image.open(\"C:/Users/sraba/OneDrive/Documents/ML_Barbu/Datasets/horse001b.png\")\n",
    "I"
   ]
  },
  {
   "cell_type": "code",
   "execution_count": 3,
   "id": "61c7a79d",
   "metadata": {},
   "outputs": [
    {
     "data": {
      "text/plain": [
       "torch.Size([1, 84, 128])"
      ]
     },
     "execution_count": 3,
     "metadata": {},
     "output_type": "execute_result"
    }
   ],
   "source": [
    "Convertor = transforms.ToTensor()\n",
    "I_tensor = Convertor(I)\n",
    "I_tensor.shape"
   ]
  },
  {
   "cell_type": "code",
   "execution_count": 4,
   "id": "6baef906",
   "metadata": {},
   "outputs": [],
   "source": [
    "Input = []\n",
    "for i in range(0,84):\n",
    "    for j in range(0,128):\n",
    "        var = torch.tensor([i,j])\n",
    "        Input.append(var)\n",
    "Input = torch.stack(Input)\n",
    "Input = Input.reshape(10752,2)"
   ]
  },
  {
   "cell_type": "code",
   "execution_count": 5,
   "id": "13984507",
   "metadata": {},
   "outputs": [
    {
     "name": "stderr",
     "output_type": "stream",
     "text": [
      "C:\\Users\\sraba\\AppData\\Local\\Temp/ipykernel_13776/993865593.py:2: UserWarning: To copy construct from a tensor, it is recommended to use sourceTensor.clone().detach() or sourceTensor.clone().detach().requires_grad_(True), rather than torch.tensor(sourceTensor).\n",
      "  Input = torch.tensor(Input).float()\n"
     ]
    }
   ],
   "source": [
    "#Normalize Input\n",
    "Input = torch.tensor(Input).float()\n",
    "mInput = torch.mean(Input,0)\n",
    "sInput = torch.std(Input,0)\n",
    "Input = (Input-mInput)/sInput"
   ]
  },
  {
   "cell_type": "code",
   "execution_count": 6,
   "id": "49a0d051",
   "metadata": {},
   "outputs": [
    {
     "name": "stderr",
     "output_type": "stream",
     "text": [
      "C:\\Users\\sraba\\AppData\\Local\\Temp/ipykernel_13776/1144567337.py:5: UserWarning: To copy construct from a tensor, it is recommended to use sourceTensor.clone().detach() or sourceTensor.clone().detach().requires_grad_(True), rather than torch.tensor(sourceTensor).\n",
      "  I_tensor = torch.tensor(I_tensor).float()\n"
     ]
    }
   ],
   "source": [
    "#Output manipulation\n",
    "I_tensor = I_tensor.reshape(10752,1)\n",
    "mI_tensor=torch.mean(I_tensor)\n",
    "I_tensor = I_tensor - mI_tensor\n",
    "I_tensor = torch.tensor(I_tensor).float()"
   ]
  },
  {
   "cell_type": "code",
   "execution_count": 7,
   "id": "0a71088e",
   "metadata": {},
   "outputs": [],
   "source": [
    "#Visualize normalized image\n",
    "I_test = I_tensor.reshape(1,84,128)"
   ]
  },
  {
   "cell_type": "code",
   "execution_count": 8,
   "id": "263dae23",
   "metadata": {},
   "outputs": [],
   "source": [
    "Reverse_Convertor = transforms.ToPILImage()\n",
    "ImageTest = Reverse_Convertor(I_test)\n",
    "ImageTest.show()"
   ]
  },
  {
   "cell_type": "code",
   "execution_count": 9,
   "id": "c6118595",
   "metadata": {},
   "outputs": [
    {
     "name": "stdout",
     "output_type": "stream",
     "text": [
      "torch.Size([10752, 1])\n",
      "torch.Size([10752, 2])\n"
     ]
    }
   ],
   "source": [
    "print(I_tensor.shape)\n",
    "print(Input.shape)"
   ]
  },
  {
   "cell_type": "markdown",
   "id": "c9dff694",
   "metadata": {},
   "source": [
    "# SETTING UP X AND Y (input & output)"
   ]
  },
  {
   "cell_type": "code",
   "execution_count": 10,
   "id": "e004e99f",
   "metadata": {},
   "outputs": [],
   "source": [
    "x = Input.clone()\n",
    "y = I_tensor.clone()"
   ]
  },
  {
   "cell_type": "code",
   "execution_count": 11,
   "id": "1e29b769",
   "metadata": {},
   "outputs": [
    {
     "name": "stdout",
     "output_type": "stream",
     "text": [
      "torch.Size([10752, 2])\n",
      "torch.Size([10752, 1])\n"
     ]
    }
   ],
   "source": [
    "print(x.shape)\n",
    "print(y.shape)"
   ]
  },
  {
   "cell_type": "code",
   "execution_count": 12,
   "id": "d8d08e04",
   "metadata": {},
   "outputs": [],
   "source": [
    "TD=TensorDataset(x,y)\n",
    "train_loader=DataLoader(TD,batch_size=64, shuffle=True)"
   ]
  },
  {
   "cell_type": "markdown",
   "id": "fdeb157b",
   "metadata": {},
   "source": [
    "# DEFINING HYPERPARAMETERS"
   ]
  },
  {
   "cell_type": "code",
   "execution_count": 13,
   "id": "9cf59887",
   "metadata": {},
   "outputs": [],
   "source": [
    "n_in = 2\n",
    "n_h1 = 32\n",
    "n_h2 = 64\n",
    "n_h3 = 128\n",
    "n_h4 = 128\n",
    "n_out = 1\n",
    "L_Rate = 0.003\n",
    "epoch = 300\n",
    "#batch size as already defined in the DataLoader = 64"
   ]
  },
  {
   "cell_type": "markdown",
   "id": "6e4db1fc",
   "metadata": {},
   "source": [
    "# THE NEURAL NETWORK CLASS AS A SUBCLASS OF TORCH.NN"
   ]
  },
  {
   "cell_type": "code",
   "execution_count": 14,
   "id": "8fb0b0a1",
   "metadata": {},
   "outputs": [
    {
     "name": "stdout",
     "output_type": "stream",
     "text": [
      "NeuralNet(\n",
      "  (linear_relu_stack): Sequential(\n",
      "    (0): Linear(in_features=2, out_features=32, bias=True)\n",
      "    (1): ReLU()\n",
      "    (2): Linear(in_features=32, out_features=64, bias=True)\n",
      "    (3): ReLU()\n",
      "    (4): Linear(in_features=64, out_features=128, bias=True)\n",
      "    (5): ReLU()\n",
      "    (6): Linear(in_features=128, out_features=128, bias=True)\n",
      "    (7): ReLU()\n",
      "    (8): Linear(in_features=128, out_features=1, bias=True)\n",
      "  )\n",
      ")\n"
     ]
    }
   ],
   "source": [
    "class NeuralNet(nn.Module):\n",
    "    def __init__(self, n_in, n_h1, n_h2, n_h3, n_h4, n_out):\n",
    "        super(NeuralNet, self).__init__()\n",
    "#        self.flatten = nn.Flatten()\n",
    "        self.linear_relu_stack = nn.Sequential(nn.Linear(n_in,n_h1), nn.ReLU(), nn.Linear(n_h1,n_h2), nn.ReLU(),\n",
    "                                               nn.Linear(n_h2,n_h3), nn.ReLU(), nn.Linear(n_h3,n_h4), nn.ReLU(),\n",
    "                                               nn.Linear(n_h4,n_out))\n",
    "\n",
    "        \n",
    "    def forward(self, x):\n",
    "#        x = self.flatten(x)\n",
    "        x = self.linear_relu_stack(x)\n",
    "        return x  \n",
    "\n",
    "model = NeuralNet(n_in, n_h1, n_h2, n_h3, n_h4, n_out)\n",
    "print(model)"
   ]
  },
  {
   "cell_type": "markdown",
   "id": "7f2265e7",
   "metadata": {},
   "source": [
    "# Training"
   ]
  },
  {
   "cell_type": "code",
   "execution_count": 15,
   "id": "4699353b",
   "metadata": {},
   "outputs": [],
   "source": [
    "losses=[]\n",
    "optimizer = optim.Adam(model.parameters(), lr=L_Rate)\n",
    "scheduler = optim.lr_scheduler.StepLR(optimizer, step_size=100, gamma=0.5)\n",
    "for epoch in range(epoch):\n",
    "    losstemp=0\n",
    "    for data in train_loader:\n",
    "        inputs,target=data\n",
    "        optimizer.zero_grad()   # zero the gradient buffers\n",
    "        outputs = model(inputs)\n",
    "        loss=torch.mean((target - outputs)**2)\n",
    "        losstemp+=loss.item()\n",
    "        loss.backward()\n",
    "        optimizer.step()\n",
    "    scheduler.step()\n",
    "    losses.append(losstemp)"
   ]
  },
  {
   "cell_type": "code",
   "execution_count": 16,
   "id": "3de09ace",
   "metadata": {},
   "outputs": [
    {
     "data": {
      "text/plain": [
       "300"
      ]
     },
     "execution_count": 16,
     "metadata": {},
     "output_type": "execute_result"
    }
   ],
   "source": [
    "losses = [x / 168 for x in losses]\n",
    "len(losses)"
   ]
  },
  {
   "cell_type": "code",
   "execution_count": 17,
   "id": "354a85df",
   "metadata": {},
   "outputs": [],
   "source": [
    "#losses"
   ]
  },
  {
   "cell_type": "code",
   "execution_count": 18,
   "id": "d94cf843",
   "metadata": {},
   "outputs": [
    {
     "data": {
      "text/plain": [
       "[<matplotlib.lines.Line2D at 0x229ea7e59f0>]"
      ]
     },
     "execution_count": 18,
     "metadata": {},
     "output_type": "execute_result"
    },
    {
     "data": {
      "image/png": "[encoded data removed]",
      "text/plain": [
       "<Figure size 432x288 with 1 Axes>"
      ]
     },
     "metadata": {
      "needs_background": "light"
     },
     "output_type": "display_data"
    }
   ],
   "source": [
    "plt.plot(losses)"
   ]
  },
  {
   "cell_type": "markdown",
   "id": "44bc33e5",
   "metadata": {},
   "source": [
    "# Prediction and image reconstruction"
   ]
  },
  {
   "cell_type": "code",
   "execution_count": 19,
   "id": "6e2ad524",
   "metadata": {},
   "outputs": [],
   "source": [
    "y_pred = model(x).reshape(1,84,128)"
   ]
  },
  {
   "cell_type": "code",
   "execution_count": 20,
   "id": "464e7db4",
   "metadata": {},
   "outputs": [],
   "source": [
    "y_pred[y_pred>1] = 1"
   ]
  },
  {
   "cell_type": "code",
   "execution_count": 21,
   "id": "a4268e3c",
   "metadata": {},
   "outputs": [],
   "source": [
    "y_pred[y_pred<0] = 0"
   ]
  },
  {
   "cell_type": "code",
   "execution_count": 22,
   "id": "18488783",
   "metadata": {},
   "outputs": [],
   "source": [
    "#Reverse_Convertor = transforms.ToPILImage()\n",
    "Image = Reverse_Convertor(y_pred)\n",
    "Image.show()"
   ]
  }
 ],
 "metadata": {
  "kernelspec": {
   "display_name": "Python 3 (ipykernel)",
   "language": "python",
   "name": "python3"
  },
  "language_info": {
   "codemirror_mode": {
    "name": "ipython",
    "version": 3
   },
   "file_extension": ".py",
   "mimetype": "text/x-python",
   "name": "python",
   "nbconvert_exporter": "python",
   "pygments_lexer": "ipython3",
   "version": "3.10.1"
  }
 },
 "nbformat": 4,
 "nbformat_minor": 5
}
